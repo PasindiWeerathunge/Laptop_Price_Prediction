{
  "nbformat": 4,
  "nbformat_minor": 0,
  "metadata": {
    "colab": {
      "provenance": [],
      "authorship_tag": "ABX9TyP8ahpwsdAQk7kg73gF0QIg",
      "include_colab_link": true
    },
    "kernelspec": {
      "name": "python3",
      "display_name": "Python 3"
    },
    "language_info": {
      "name": "python"
    }
  },
  "cells": [
    {
      "cell_type": "markdown",
      "metadata": {
        "id": "view-in-github",
        "colab_type": "text"
      },
      "source": [
        "<a href=\"https://colab.research.google.com/github/PasindiWeerathunge/Laptop_Price_Prediction/blob/main/Laptop_Price_Prediction.ipynb\" target=\"_parent\"><img src=\"https://colab.research.google.com/assets/colab-badge.svg\" alt=\"Open In Colab\"/></a>"
      ]
    },
    {
      "cell_type": "markdown",
      "source": [
        "###Import Libraries"
      ],
      "metadata": {
        "id": "g00DIfIwo0Vw"
      }
    },
    {
      "cell_type": "code",
      "execution_count": 4,
      "metadata": {
        "id": "fzLyFOJJIu0U"
      },
      "outputs": [],
      "source": [
        "#Import Libraries\n",
        "import numpy as np\n",
        "import pandas as pd"
      ]
    },
    {
      "cell_type": "markdown",
      "source": [
        "###Get Dataset"
      ],
      "metadata": {
        "id": "FZz1PNHHqCym"
      }
    },
    {
      "cell_type": "code",
      "source": [],
      "metadata": {
        "id": "_8yGvJWDqOnT"
      },
      "execution_count": null,
      "outputs": []
    }
  ]
}